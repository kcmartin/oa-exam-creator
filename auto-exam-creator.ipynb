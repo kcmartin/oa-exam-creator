{
 "cells": [
  {
   "cell_type": "code",
   "execution_count": 1,
   "id": "66511314-cded-4162-8d0f-8415e565fc6d",
   "metadata": {
    "tags": []
   },
   "outputs": [],
   "source": [
    "import os\n",
    "import openai"
   ]
  },
  {
   "cell_type": "code",
   "execution_count": 2,
   "id": "a1a71600-ef36-450b-90a4-346ec49f4a97",
   "metadata": {
    "tags": []
   },
   "outputs": [],
   "source": [
    "openai.api_key = os.getenv('OPENAI_API_KEY')"
   ]
  },
  {
   "cell_type": "code",
   "execution_count": 3,
   "id": "b5bdd414-8b54-4a48-807a-4e7b9ffc666b",
   "metadata": {
    "tags": []
   },
   "outputs": [],
   "source": [
    "def create_test_prompt(topic,num_questions,num_possible_answers):\n",
    "    prompt = f\"Create a multiple choice quiz on the topic of {topic} consisting of {num_questions} questions. \" \\\n",
    "                 + f\"Each question should have {num_possible_answers} options. \"\\\n",
    "                 + f\"Also include the correct answer for each question using the starting string 'Correct Answer: '.\"\n",
    "    return prompt"
   ]
  },
  {
   "cell_type": "code",
   "execution_count": 8,
   "id": "66d43467-515c-439d-8993-6312724e59d4",
   "metadata": {
    "tags": []
   },
   "outputs": [],
   "source": [
    "response = openai.Completion.create(engine=\"text-davinci-003\",\n",
    "                                            prompt=create_test_prompt('Python',4,4),\n",
    "                                            max_tokens=256,\n",
    "                                            temperature=0.7)"
   ]
  },
  {
   "cell_type": "code",
   "execution_count": 9,
   "id": "e36944d5-bcc2-4a70-ab40-24889d024cde",
   "metadata": {
    "tags": []
   },
   "outputs": [
    {
     "name": "stdout",
     "output_type": "stream",
     "text": [
      "\n",
      "\n",
      "1. What is the most common type of loop used in Python?\n",
      "A) for loop\n",
      "B) while loop\n",
      "C) do-while loop\n",
      "D) none of the above\n",
      "Correct Answer: A) for loop\n",
      "\n",
      "2. What is the correct way to write a comment in Python?\n",
      "A) // this is a comment\n",
      "B) # this is a comment\n",
      "C) /* this is a comment */\n",
      "D) /* this is a comment\n",
      "Correct Answer: B) # this is a comment\n",
      "\n",
      "3. What is the correct way to represent a string in Python?\n",
      "A) 'string'\n",
      "B) [string]\n",
      "C) \"string\"\n",
      "D) {string}\n",
      "Correct Answer: C) \"string\"\n",
      "\n",
      "4. Which of the following is not a keyword in Python?\n",
      "A) True\n",
      "B) False\n",
      "C) Break\n",
      "D) Continue\n",
      "Correct Answer: B) False\n"
     ]
    }
   ],
   "source": [
    "print(response['choices'][0]['text'])"
   ]
  },
  {
   "cell_type": "code",
   "execution_count": null,
   "id": "49ae54ce-c534-4e60-b90a-38ffa043e37a",
   "metadata": {},
   "outputs": [],
   "source": []
  }
 ],
 "metadata": {
  "kernelspec": {
   "display_name": "Python 3 (ipykernel)",
   "language": "python",
   "name": "python3"
  },
  "language_info": {
   "codemirror_mode": {
    "name": "ipython",
    "version": 3
   },
   "file_extension": ".py",
   "mimetype": "text/x-python",
   "name": "python",
   "nbconvert_exporter": "python",
   "pygments_lexer": "ipython3",
   "version": "3.11.2"
  }
 },
 "nbformat": 4,
 "nbformat_minor": 5
}
