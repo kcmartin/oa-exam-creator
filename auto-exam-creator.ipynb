{
 "cells": [
  {
   "cell_type": "code",
   "execution_count": 1,
   "id": "66511314-cded-4162-8d0f-8415e565fc6d",
   "metadata": {
    "tags": []
   },
   "outputs": [],
   "source": [
    "import os\n",
    "import openai"
   ]
  },
  {
   "cell_type": "code",
   "execution_count": 2,
   "id": "a1a71600-ef36-450b-90a4-346ec49f4a97",
   "metadata": {
    "tags": []
   },
   "outputs": [],
   "source": [
    "openai.api_key = os.getenv('OPENAI_API_KEY')"
   ]
  },
  {
   "cell_type": "code",
   "execution_count": 3,
   "id": "b5bdd414-8b54-4a48-807a-4e7b9ffc666b",
   "metadata": {
    "tags": []
   },
   "outputs": [],
   "source": [
    "def create_test_prompt(topic,num_questions,num_possible_answers):\n",
    "    prompt = f\"Create a multiple choice quiz on the topic of {topic} consisting of {num_questions} questions. \" \\\n",
    "                 + f\"Each question should have {num_possible_answers} options. \"\\\n",
    "                 + f\"Also include the correct answer for each question using the starting string 'Correct Answer: '.\"\n",
    "    return prompt"
   ]
  },
  {
   "cell_type": "code",
   "execution_count": 8,
   "id": "66d43467-515c-439d-8993-6312724e59d4",
   "metadata": {
    "tags": []
   },
   "outputs": [],
   "source": [
    "response = openai.Completion.create(engine=\"text-davinci-003\",\n",
    "                                            prompt=create_test_prompt('Python',4,4),\n",
    "                                            max_tokens=256,\n",
    "                                            temperature=0.7)"
   ]
  },
  {
   "cell_type": "code",
   "execution_count": 9,
   "id": "e36944d5-bcc2-4a70-ab40-24889d024cde",
   "metadata": {
    "tags": []
   },
   "outputs": [
    {
     "name": "stdout",
     "output_type": "stream",
     "text": [
      "\n",
      "\n",
      "1. What is the most common type of loop used in Python?\n",
      "A) for loop\n",
      "B) while loop\n",
      "C) do-while loop\n",
      "D) none of the above\n",
      "Correct Answer: A) for loop\n",
      "\n",
      "2. What is the correct way to write a comment in Python?\n",
      "A) // this is a comment\n",
      "B) # this is a comment\n",
      "C) /* this is a comment */\n",
      "D) /* this is a comment\n",
      "Correct Answer: B) # this is a comment\n",
      "\n",
      "3. What is the correct way to represent a string in Python?\n",
      "A) 'string'\n",
      "B) [string]\n",
      "C) \"string\"\n",
      "D) {string}\n",
      "Correct Answer: C) \"string\"\n",
      "\n",
      "4. Which of the following is not a keyword in Python?\n",
      "A) True\n",
      "B) False\n",
      "C) Break\n",
      "D) Continue\n",
      "Correct Answer: B) False\n"
     ]
    }
   ],
   "source": [
    "print(response['choices'][0]['text'])"
   ]
  },
  {
   "cell_type": "code",
   "execution_count": 11,
   "id": "49ae54ce-c534-4e60-b90a-38ffa043e37a",
   "metadata": {
    "tags": []
   },
   "outputs": [],
   "source": [
    "def create_student_view(test,num_questions):\n",
    "    student_view = {1:''}\n",
    "    question_number = 1\n",
    "    for line in test.split(\"\\n\"):\n",
    "        # are you on an answer line?\n",
    "        if not line.startswith(\"Correct Answer:\"):\n",
    "            student_view[question_number] += line+'\\n'\n",
    "        else:\n",
    "            if question_number < num_questions:\n",
    "                question_number +=1\n",
    "                student_view[question_number] = ''\n",
    "    return student_view"
   ]
  },
  {
   "cell_type": "code",
   "execution_count": 13,
   "id": "a54ce921-8a1a-4a3c-aba7-8dcae4d29886",
   "metadata": {
    "tags": []
   },
   "outputs": [],
   "source": [
    "result = create_student_view(response['choices'][0]['text'],4)"
   ]
  },
  {
   "cell_type": "code",
   "execution_count": 14,
   "id": "db888824-5d55-401a-9c13-a69970925f7a",
   "metadata": {
    "tags": []
   },
   "outputs": [
    {
     "name": "stdout",
     "output_type": "stream",
     "text": [
      "\n",
      "\n",
      "1. What is the most common type of loop used in Python?\n",
      "A) for loop\n",
      "B) while loop\n",
      "C) do-while loop\n",
      "D) none of the above\n",
      "\n",
      "\n",
      "2. What is the correct way to write a comment in Python?\n",
      "A) // this is a comment\n",
      "B) # this is a comment\n",
      "C) /* this is a comment */\n",
      "D) /* this is a comment\n",
      "\n",
      "\n",
      "3. What is the correct way to represent a string in Python?\n",
      "A) 'string'\n",
      "B) [string]\n",
      "C) \"string\"\n",
      "D) {string}\n",
      "\n",
      "\n",
      "4. Which of the following is not a keyword in Python?\n",
      "A) True\n",
      "B) False\n",
      "C) Break\n",
      "D) Continue\n",
      "\n"
     ]
    }
   ],
   "source": [
    "for key in result:\n",
    "    print(result[key])"
   ]
  },
  {
   "cell_type": "code",
   "execution_count": 15,
   "id": "3d74c7cc-56de-44d1-8959-367834f2bf18",
   "metadata": {
    "tags": []
   },
   "outputs": [],
   "source": [
    "def extract_answers(test, num_questions):\n",
    "    answers = {1 : \"\"}\n",
    "    question_number = 1\n",
    "    for line in test.split(\"\\n\"):\n",
    "        if line.startswith(\"Correct Answer:\"):\n",
    "            answers[question_number] += line+\"\\n\"\n",
    "\n",
    "            if question_number < num_questions:\n",
    "                question_number+=1\n",
    "                answers[question_number] = \"\"\n",
    "    return answers"
   ]
  },
  {
   "cell_type": "code",
   "execution_count": 16,
   "id": "6263d27c-6d5a-4587-b6a8-4ca66690271f",
   "metadata": {
    "tags": []
   },
   "outputs": [
    {
     "data": {
      "text/plain": [
       "{1: 'Correct Answer: A) for loop\\n',\n",
       " 2: 'Correct Answer: B) # this is a comment\\n',\n",
       " 3: 'Correct Answer: C) \"string\"\\n',\n",
       " 4: 'Correct Answer: B) False\\n'}"
      ]
     },
     "execution_count": 16,
     "metadata": {},
     "output_type": "execute_result"
    }
   ],
   "source": [
    "extract_answers(response['choices'][0]['text'],4)"
   ]
  },
  {
   "cell_type": "code",
   "execution_count": 17,
   "id": "a95ec73b-69ef-4b9c-9016-7355edb7cc7e",
   "metadata": {
    "tags": []
   },
   "outputs": [],
   "source": [
    "student_view = create_student_view(response['choices'][0]['text'],4)"
   ]
  },
  {
   "cell_type": "code",
   "execution_count": 18,
   "id": "06c40b8b-4802-4f81-b6f7-8fa34f4a2e82",
   "metadata": {
    "tags": []
   },
   "outputs": [],
   "source": [
    "answers = extract_answers(response['choices'][0]['text'],4)"
   ]
  },
  {
   "cell_type": "code",
   "execution_count": 19,
   "id": "f5a44762-13c7-4e38-8434-e621232bc559",
   "metadata": {
    "tags": []
   },
   "outputs": [],
   "source": [
    "# take exam\n",
    "def take(student_view):\n",
    "    student_answers= {}\n",
    "    for question,question_view in student_view.items():\n",
    "        print(question_view)\n",
    "        answer = input(\"Enter your answer: \")\n",
    "        student_answers[question] = answer\n",
    "    return student_answers"
   ]
  },
  {
   "cell_type": "code",
   "execution_count": 20,
   "id": "d2c45ee8-4167-4d35-a72e-d22d594fb3b7",
   "metadata": {
    "tags": []
   },
   "outputs": [
    {
     "name": "stdout",
     "output_type": "stream",
     "text": [
      "\n",
      "\n",
      "1. What is the most common type of loop used in Python?\n",
      "A) for loop\n",
      "B) while loop\n",
      "C) do-while loop\n",
      "D) none of the above\n",
      "\n"
     ]
    },
    {
     "name": "stdin",
     "output_type": "stream",
     "text": [
      "Enter your answer:  a\n"
     ]
    },
    {
     "name": "stdout",
     "output_type": "stream",
     "text": [
      "\n",
      "2. What is the correct way to write a comment in Python?\n",
      "A) // this is a comment\n",
      "B) # this is a comment\n",
      "C) /* this is a comment */\n",
      "D) /* this is a comment\n",
      "\n"
     ]
    },
    {
     "name": "stdin",
     "output_type": "stream",
     "text": [
      "Enter your answer:  b\n"
     ]
    },
    {
     "name": "stdout",
     "output_type": "stream",
     "text": [
      "\n",
      "3. What is the correct way to represent a string in Python?\n",
      "A) 'string'\n",
      "B) [string]\n",
      "C) \"string\"\n",
      "D) {string}\n",
      "\n"
     ]
    },
    {
     "name": "stdin",
     "output_type": "stream",
     "text": [
      "Enter your answer:  c\n"
     ]
    },
    {
     "name": "stdout",
     "output_type": "stream",
     "text": [
      "\n",
      "4. Which of the following is not a keyword in Python?\n",
      "A) True\n",
      "B) False\n",
      "C) Break\n",
      "D) Continue\n",
      "\n"
     ]
    },
    {
     "name": "stdin",
     "output_type": "stream",
     "text": [
      "Enter your answer:  b\n"
     ]
    }
   ],
   "source": [
    "student_answers = take(student_view)"
   ]
  },
  {
   "cell_type": "code",
   "execution_count": 21,
   "id": "11fe2ce1-2021-43d0-b6ff-99b0bd7453de",
   "metadata": {
    "tags": []
   },
   "outputs": [
    {
     "data": {
      "text/plain": [
       "{1: 'a', 2: 'b', 3: 'c', 4: 'b'}"
      ]
     },
     "execution_count": 21,
     "metadata": {},
     "output_type": "execute_result"
    }
   ],
   "source": [
    "student_answers"
   ]
  },
  {
   "cell_type": "code",
   "execution_count": 25,
   "id": "cdea0398-61af-4178-ad8b-37e923391ab6",
   "metadata": {
    "tags": []
   },
   "outputs": [
    {
     "data": {
      "text/plain": [
       "'C'"
      ]
     },
     "execution_count": 25,
     "metadata": {},
     "output_type": "execute_result"
    }
   ],
   "source": [
    "# grabbing the answer by index. Seems less than ideal. You could also split on Correct answer.\n",
    "answers[3][16]"
   ]
  },
  {
   "cell_type": "code",
   "execution_count": 28,
   "id": "3ccf0a4b-fb2b-4ce2-aca2-49e1dbeda8d6",
   "metadata": {
    "tags": []
   },
   "outputs": [],
   "source": [
    "#grading the exam\n",
    "def grade(correct_answer_dict,student_answers):\n",
    "    #keep running count\n",
    "    correct_answers = 0\n",
    "    for question,answer in student_answers.items():\n",
    "        if answer.upper() == correct_answer_dict[question][16]:\n",
    "            correct_answers +=1\n",
    "    #format the grade\n",
    "    grade = 100*correct_answers / len(answers)\n",
    "    \n",
    "    # pass or no pass\n",
    "    if grade <60:\n",
    "        passed = \"NO PASS\"\n",
    "    else:\n",
    "        passed = \"PASS!\"\n",
    "        \n",
    "    return f\"{correct_answers}/{len(answers)} correct! You got {grade}, {passed}\""
   ]
  },
  {
   "cell_type": "code",
   "execution_count": 29,
   "id": "2cada78c-e4e2-4654-ab26-6442a21ad62d",
   "metadata": {
    "tags": []
   },
   "outputs": [
    {
     "data": {
      "text/plain": [
       "'4/4 correct! You got 100.0, PASS!'"
      ]
     },
     "execution_count": 29,
     "metadata": {},
     "output_type": "execute_result"
    }
   ],
   "source": [
    "grade(answers, student_answers)"
   ]
  },
  {
   "cell_type": "code",
   "execution_count": null,
   "id": "b2cf65c5-b66d-4b40-87d8-ce0aa4597f78",
   "metadata": {},
   "outputs": [],
   "source": []
  }
 ],
 "metadata": {
  "kernelspec": {
   "display_name": "Python 3 (ipykernel)",
   "language": "python",
   "name": "python3"
  },
  "language_info": {
   "codemirror_mode": {
    "name": "ipython",
    "version": 3
   },
   "file_extension": ".py",
   "mimetype": "text/x-python",
   "name": "python",
   "nbconvert_exporter": "python",
   "pygments_lexer": "ipython3",
   "version": "3.11.2"
  }
 },
 "nbformat": 4,
 "nbformat_minor": 5
}
